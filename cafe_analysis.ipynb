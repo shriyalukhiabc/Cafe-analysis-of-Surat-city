{
 "cells": [
  {
   "cell_type": "code",
   "execution_count": 34,
   "id": "87a04b23-2ca5-4df1-be34-6047c9648000",
   "metadata": {},
   "outputs": [
    {
     "name": "stdout",
     "output_type": "stream",
     "text": [
      "Collecting selenium\n",
      "  Downloading selenium-4.21.0-py3-none-any.whl.metadata (6.9 kB)\n",
      "Requirement already satisfied: urllib3<3,>=1.26 in c:\\users\\admin\\anaconda3\\lib\\site-packages (from urllib3[socks]<3,>=1.26->selenium) (2.0.7)\n",
      "Collecting trio~=0.17 (from selenium)\n",
      "  Downloading trio-0.25.1-py3-none-any.whl.metadata (8.7 kB)\n",
      "Collecting trio-websocket~=0.9 (from selenium)\n",
      "  Downloading trio_websocket-0.11.1-py3-none-any.whl.metadata (4.7 kB)\n",
      "Requirement already satisfied: certifi>=2021.10.8 in c:\\users\\admin\\anaconda3\\lib\\site-packages (from selenium) (2024.2.2)\n",
      "Requirement already satisfied: typing_extensions>=4.9.0 in c:\\users\\admin\\anaconda3\\lib\\site-packages (from selenium) (4.9.0)\n",
      "Collecting attrs>=23.2.0 (from trio~=0.17->selenium)\n",
      "  Downloading attrs-23.2.0-py3-none-any.whl.metadata (9.5 kB)\n",
      "Requirement already satisfied: sortedcontainers in c:\\users\\admin\\anaconda3\\lib\\site-packages (from trio~=0.17->selenium) (2.4.0)\n",
      "Requirement already satisfied: idna in c:\\users\\admin\\anaconda3\\lib\\site-packages (from trio~=0.17->selenium) (3.4)\n",
      "Collecting outcome (from trio~=0.17->selenium)\n",
      "  Downloading outcome-1.3.0.post0-py2.py3-none-any.whl.metadata (2.6 kB)\n",
      "Requirement already satisfied: sniffio>=1.3.0 in c:\\users\\admin\\anaconda3\\lib\\site-packages (from trio~=0.17->selenium) (1.3.0)\n",
      "Requirement already satisfied: cffi>=1.14 in c:\\users\\admin\\anaconda3\\lib\\site-packages (from trio~=0.17->selenium) (1.16.0)\n",
      "Collecting wsproto>=0.14 (from trio-websocket~=0.9->selenium)\n",
      "  Downloading wsproto-1.2.0-py3-none-any.whl.metadata (5.6 kB)\n",
      "Requirement already satisfied: pysocks!=1.5.7,<2.0,>=1.5.6 in c:\\users\\admin\\anaconda3\\lib\\site-packages (from urllib3[socks]<3,>=1.26->selenium) (1.7.1)\n",
      "Requirement already satisfied: pycparser in c:\\users\\admin\\anaconda3\\lib\\site-packages (from cffi>=1.14->trio~=0.17->selenium) (2.21)\n",
      "Collecting h11<1,>=0.9.0 (from wsproto>=0.14->trio-websocket~=0.9->selenium)\n",
      "  Downloading h11-0.14.0-py3-none-any.whl.metadata (8.2 kB)\n",
      "Downloading selenium-4.21.0-py3-none-any.whl (9.5 MB)\n",
      "   ---------------------------------------- 0.0/9.5 MB ? eta -:--:--\n",
      "   ---------------------------------------- 0.0/9.5 MB 660.6 kB/s eta 0:00:15\n",
      "   - -------------------------------------- 0.3/9.5 MB 3.2 MB/s eta 0:00:03\n",
      "   --- ------------------------------------ 0.8/9.5 MB 5.4 MB/s eta 0:00:02\n",
      "   ---- ----------------------------------- 1.0/9.5 MB 5.1 MB/s eta 0:00:02\n",
      "   ---- ----------------------------------- 1.1/9.5 MB 5.0 MB/s eta 0:00:02\n",
      "   ----- ---------------------------------- 1.2/9.5 MB 4.9 MB/s eta 0:00:02\n",
      "   ----- ---------------------------------- 1.2/9.5 MB 4.9 MB/s eta 0:00:02\n",
      "   ----- ---------------------------------- 1.2/9.5 MB 4.9 MB/s eta 0:00:02\n",
      "   ----- ---------------------------------- 1.4/9.5 MB 3.3 MB/s eta 0:00:03\n",
      "   ------- -------------------------------- 1.7/9.5 MB 3.6 MB/s eta 0:00:03\n",
      "   -------- ------------------------------- 2.0/9.5 MB 3.9 MB/s eta 0:00:02\n",
      "   --------- ------------------------------ 2.2/9.5 MB 3.9 MB/s eta 0:00:02\n",
      "   --------- ------------------------------ 2.2/9.5 MB 3.9 MB/s eta 0:00:02\n",
      "   --------- ------------------------------ 2.2/9.5 MB 3.9 MB/s eta 0:00:02\n",
      "   --------- ------------------------------ 2.2/9.5 MB 3.2 MB/s eta 0:00:03\n",
      "   ----------- ---------------------------- 2.6/9.5 MB 3.4 MB/s eta 0:00:02\n",
      "   ------------ --------------------------- 2.8/9.5 MB 3.5 MB/s eta 0:00:02\n",
      "   ------------- -------------------------- 3.1/9.5 MB 3.6 MB/s eta 0:00:02\n",
      "   -------------- ------------------------- 3.3/9.5 MB 3.6 MB/s eta 0:00:02\n",
      "   -------------- ------------------------- 3.5/9.5 MB 3.6 MB/s eta 0:00:02\n",
      "   --------------- ------------------------ 3.6/9.5 MB 3.6 MB/s eta 0:00:02\n",
      "   --------------- ------------------------ 3.6/9.5 MB 3.6 MB/s eta 0:00:02\n",
      "   --------------- ------------------------ 3.6/9.5 MB 3.6 MB/s eta 0:00:02\n",
      "   ---------------- ----------------------- 4.0/9.5 MB 3.5 MB/s eta 0:00:02\n",
      "   ------------------ --------------------- 4.4/9.5 MB 3.6 MB/s eta 0:00:02\n",
      "   ------------------- -------------------- 4.7/9.5 MB 3.7 MB/s eta 0:00:02\n",
      "   -------------------- ------------------- 4.9/9.5 MB 3.7 MB/s eta 0:00:02\n",
      "   --------------------- ------------------ 5.1/9.5 MB 3.7 MB/s eta 0:00:02\n",
      "   ---------------------- ----------------- 5.3/9.5 MB 3.7 MB/s eta 0:00:02\n",
      "   ----------------------- ---------------- 5.4/9.5 MB 3.7 MB/s eta 0:00:02\n",
      "   ----------------------- ---------------- 5.6/9.5 MB 3.7 MB/s eta 0:00:02\n",
      "   ------------------------ --------------- 5.8/9.5 MB 3.7 MB/s eta 0:00:01\n",
      "   ------------------------- -------------- 6.0/9.5 MB 3.7 MB/s eta 0:00:01\n",
      "   -------------------------- ------------- 6.2/9.5 MB 3.7 MB/s eta 0:00:01\n",
      "   --------------------------- ------------ 6.4/9.5 MB 3.7 MB/s eta 0:00:01\n",
      "   --------------------------- ------------ 6.6/9.5 MB 3.7 MB/s eta 0:00:01\n",
      "   ----------------------------- ---------- 6.9/9.5 MB 3.7 MB/s eta 0:00:01\n",
      "   ----------------------------- ---------- 7.0/9.5 MB 3.7 MB/s eta 0:00:01\n",
      "   ------------------------------ --------- 7.2/9.5 MB 3.8 MB/s eta 0:00:01\n",
      "   ------------------------------- -------- 7.4/9.5 MB 3.8 MB/s eta 0:00:01\n",
      "   -------------------------------- ------- 7.6/9.5 MB 3.8 MB/s eta 0:00:01\n",
      "   -------------------------------- ------- 7.8/9.5 MB 3.8 MB/s eta 0:00:01\n",
      "   --------------------------------- ------ 8.0/9.5 MB 3.8 MB/s eta 0:00:01\n",
      "   ---------------------------------- ----- 8.2/9.5 MB 3.8 MB/s eta 0:00:01\n",
      "   ----------------------------------- ---- 8.4/9.5 MB 3.8 MB/s eta 0:00:01\n",
      "   ------------------------------------ --- 8.7/9.5 MB 3.8 MB/s eta 0:00:01\n",
      "   ------------------------------------- -- 8.9/9.5 MB 3.8 MB/s eta 0:00:01\n",
      "   -------------------------------------- - 9.1/9.5 MB 3.8 MB/s eta 0:00:01\n",
      "   ---------------------------------------  9.3/9.5 MB 3.8 MB/s eta 0:00:01\n",
      "   ---------------------------------------  9.5/9.5 MB 3.8 MB/s eta 0:00:01\n",
      "   ---------------------------------------  9.5/9.5 MB 3.8 MB/s eta 0:00:01\n",
      "   ---------------------------------------  9.5/9.5 MB 3.8 MB/s eta 0:00:01\n",
      "   ---------------------------------------- 9.5/9.5 MB 3.6 MB/s eta 0:00:00\n",
      "Downloading trio-0.25.1-py3-none-any.whl (467 kB)\n",
      "   ---------------------------------------- 0.0/467.7 kB ? eta -:--:--\n",
      "   --------------------------------------  460.8/467.7 kB 14.5 MB/s eta 0:00:01\n",
      "   ---------------------------------------- 467.7/467.7 kB 7.3 MB/s eta 0:00:00\n",
      "Downloading trio_websocket-0.11.1-py3-none-any.whl (17 kB)\n",
      "Downloading attrs-23.2.0-py3-none-any.whl (60 kB)\n",
      "   ---------------------------------------- 0.0/60.8 kB ? eta -:--:--\n",
      "   ---------------------------------------- 60.8/60.8 kB 1.6 MB/s eta 0:00:00\n",
      "Downloading wsproto-1.2.0-py3-none-any.whl (24 kB)\n",
      "Downloading outcome-1.3.0.post0-py2.py3-none-any.whl (10 kB)\n",
      "Downloading h11-0.14.0-py3-none-any.whl (58 kB)\n",
      "   ---------------------------------------- 0.0/58.3 kB ? eta -:--:--\n",
      "   ---------------------------------------- 58.3/58.3 kB 1.5 MB/s eta 0:00:00\n",
      "Installing collected packages: h11, attrs, wsproto, outcome, trio, trio-websocket, selenium\n",
      "  Attempting uninstall: attrs\n",
      "    Found existing installation: attrs 23.1.0\n",
      "    Uninstalling attrs-23.1.0:\n",
      "      Successfully uninstalled attrs-23.1.0\n",
      "Successfully installed attrs-23.2.0 h11-0.14.0 outcome-1.3.0.post0 selenium-4.21.0 trio-0.25.1 trio-websocket-0.11.1 wsproto-1.2.0\n",
      "Note: you may need to restart the kernel to use updated packages.\n"
     ]
    }
   ],
   "source": [
    "pip install selenium"
   ]
  },
  {
   "cell_type": "code",
   "execution_count": 53,
   "id": "1be7ae00-34f7-43f4-a432-0bf5659623ba",
   "metadata": {},
   "outputs": [],
   "source": [
    "from selenium import webdriver\n",
    "driver=webdriver.Chrome()"
   ]
  },
  {
   "cell_type": "code",
   "execution_count": 26,
   "id": "122f25c0-48f5-4b82-865e-8d9990de8637",
   "metadata": {},
   "outputs": [],
   "source": [
    "driver.maximize_window()"
   ]
  },
  {
   "cell_type": "code",
   "execution_count": 54,
   "id": "9d9bf654-f8db-4c65-9d2e-9fb33e2374bc",
   "metadata": {},
   "outputs": [],
   "source": [
    "driver.get('https://www.zomato.com/surat/surat-city-restaurants/caf%C3%A9')"
   ]
  },
  {
   "cell_type": "code",
   "execution_count": 56,
   "id": "7b199269-f327-4fde-85b3-9c2dd3f5550f",
   "metadata": {},
   "outputs": [
    {
     "name": "stdout",
     "output_type": "stream",
     "text": [
      "['Coffee King Vesu', 'Cafe Beats Arena', 'The Bungalow Cafe', 'Cafe Mewaco', 'Coffee King', 'Mykonos', 'Thyme & Whisk', 'Unvind Cafe - Best Place To Unwind', 'Café Noir Raw', 'The Garlic Knot', 'Xero Degrees', 'Anytime at K’s', 'Delissio', 'Starbucks Coffee', 'Cafe Beats', 'Brewing Brokers Cafe', 'The Bungalow Coffee House', 'Kinaara - The Cafe', 'Livestream Coffee', 'Trezoro', 'Cafe Beats', 'Coffee Culture', 'Cafe De Meet', 'Koselig', 'Meraki The Coffee House', 'Peiskos', 'Nothing Before Coffee', 'Sky Deck', 'HOT & SPICY BY BIPIN BHANDARI', 'Leaf Cafe', 'The Chocolate Room', 'SnowEra - Korean Dessert & Snacks Cafe', 'Juneberry Cheesecake', 'The Chocolate Room', 'Moonstruck Coffee', 'The Good Stuff', 'Big Scoop Cafe', 'Subaka', 'The Desi Wok', 'The Hog Spot Café', 'Richie Rich - On Wheels', 'Livestream Coffee - Piplod', 'The Good Stuff', 'Cafe Ashiana', \"Papa Bear's Kitchen\", 'The Gallery', \"Let's Meet Cafe\", 'Gangour - Chai Cafe The Address', \"Kenny's Kitchen\", '801 Speciality Coffee & More', \"Cream 'N' Crust Café\", 'TCD - The Cafe Dew', 'The Flat White Coffee House', 'Red Flames Pizzaria', 'BB Social Cafe', 'Pokket Cafe', 'The Belgian Waffle Co.', 'Nukkad Cafe And Restro', 'Cafe Coco - Courtyard By Marriott', 'Tea Post', 'Lord Petrick Burger & Coffee', 'Bean Addiction Cafe', 'Irenic', 'Cafe Driftt', 'Koffee 143', 'Stories Cafe', 'Cornerstone Cafe', 'Cafe Coffee Day', \"Cream 'N' Crust\", 'Players Sports & Cafe', 'Cafe N Cravings', 'Kukdi Chopdi', 'Coffea', \"Pizza'hoy Western Style Pizza\", 'Cafetrio', 'White House Cafe', 'Mr Chai Bike', 'The Good Stuff', 'Snowera - Korean Desserts Snacks Cafe', 'Coffee King', 'Canteen Cafe', 'Downtown Cafe & Restro', \"Cream 'N' Crust Cafe\", 'House Of Hue.gah', '99 Pancakes', 'BK Cafe By Burger King', 'Chai Sutta Bar', \"Rinku's Cakery\", 'Koffeekraft', 'Kinaara The Dhaba Essence', 'LetsEat Restro And Cafe', 'Torque Cafe - Brew to Perfection', 'HNK Foods And Cafe', 'Covalent Coffee', 'Wild Bean Cafe', \"Shaker's Galleria\", \"McCafe By McDonald's\", 'Oxy Burger', 'HNK Foods & Cafe', 'Black Butter Café', 'Teemtee Kofii', 'The Waves Cafe', 'Cafe 29', 'Mr ChaiBike', 'Nescafe', \"Cream 'N' Crust Café\", '14th Feb Food Cafe', 'Urban Theka Cafe', 'Hidden Leaf Village', 'Roka Cafe', 'Ana Sagar Restaurant', 'Baked', 'The Chai Shotts', \"Nit's Cafe\", 'Blue Vanilla Patisserie', 'The Chocolate Room', 'Kraves', 'Bogo Cafe', 'Cafe IDA', 'Karwaan The Cafe', 'Karwaan The Cafe', 'Meadows', 'Coffee Experience Center']\n"
     ]
    }
   ],
   "source": [
    "from selenium.webdriver.common.by import By\n",
    "name=driver.find_elements(By.XPATH, '//h4[@class=\"sc-1hp8d8a-0 sc-iEPtyo fKawif\"]')\n",
    "name_list=[]\n",
    "for i in name:\n",
    "    name_list.append(i.text)\n",
    "print(name_list)"
   ]
  },
  {
   "cell_type": "code",
   "execution_count": 60,
   "id": "0f2fadf3-0bf8-43b2-a3a4-82a84b95804b",
   "metadata": {},
   "outputs": [
    {
     "name": "stdout",
     "output_type": "stream",
     "text": [
      "['Vesu, Surat', 'Piplod, Surat', 'Adajan Gam, Surat', 'Piplod, Surat', 'Adajan Gam, Surat', 'Vesu, Surat', 'Piplod, Surat', 'City Light, Surat', 'Vesu, Surat', 'Piplod, Surat', 'Vesu, Surat', 'Athwa, Surat', 'Piplod, Surat', 'City Light, Surat', 'Nana Varachha, Surat', 'Vesu, Surat', 'Vesu, Surat', 'Vesu, Surat', 'Vesu, Surat', 'Piplod, Surat', 'Mota Varachha, Surat', 'Vesu, Surat', 'Piplod, Surat', 'Piplod, Surat', 'City Light, Surat', 'Piplod, Surat', 'Vesu, Surat', 'Adajan Gam, Surat', 'International Business Center, Piplod, Surat', 'City Light, Surat', 'Pal Gam, Surat', 'Vesu, Surat', 'Mota Varachha, Surat', 'Vesu, Surat', 'Vesu, Surat', 'City Light, Surat', 'Piplod, Surat', 'Adajan Gam, Surat', 'Althan Bhatar, Surat', 'Athwa, Surat', 'City Light, Surat', 'Vesu, Surat', 'Vesu, Surat', 'Vesu, Surat', 'City Light, Surat', 'Piplod, Surat', 'Safal Square, Vesu, Surat', 'Vesu, Surat', 'Vesu, Surat', 'Katargam, Surat', 'Vesu, Surat', 'Dumas, Surat', 'Piplod, Surat', 'Sarthana, Surat', 'Vesu, Surat', 'Vesu, Surat', 'Adajan Gam, Surat', 'City Light, Surat', 'Courtyard By Marriott, Dumas, Surat', 'Vesu, Surat', 'Umarwada, Surat', 'Pal Gam, Surat', 'Vesu, Surat', 'Vesu, Surat', 'Adajan Gam, Surat', 'Piplod, Surat', 'Piplod, Surat', 'Riddhi Residency, Adajan Gam, Surat', 'Adajan Gam, Surat', 'Magdalla, Surat', 'Vesu, Surat', 'Piplod, Surat', 'Piplod, Surat', 'Adajan Gam, Surat', 'Vesu, Surat', 'Adajan Patiya, Surat', 'Vesu, Surat', 'Mota Varachha, Surat', 'Katargam, Surat', 'Dumas, Surat', 'Gotalawadi, Surat', 'Magob, Surat', 'Athwa, Surat', 'Utran, Surat', 'Varachha, Surat', 'Piplod, Surat', 'Vesu, Surat', 'Katargam, Surat', 'City Light, Surat', 'Vesu, Surat', 'Dumas, Surat', 'City Light, Surat', 'Jahangir Pura, Surat', 'City Light, Surat', 'Kamrej, Surat', 'Pal Gam, Surat', 'Mota Varachha, Surat', 'Mota Varachha, Surat', 'Jahangir Pura, Surat', 'Adajan Gam, Surat', 'City Light, Surat', 'Vesu, Surat', 'Piplod, Surat', 'Vesu, Surat', 'Vesu, Surat', 'Pal Gam, Surat', 'Adajan Gam, Surat', 'Kamrej, Surat', 'Magdalla, Surat', 'Kamrej, Surat', 'Anjana, Surat', 'Pal Gam, Surat', 'Katargam, Surat', 'Vesu, Surat', 'Vesu, Surat', 'Vesu, Surat', 'Khajod, Surat', 'Piplod, Surat', 'Vesu, Surat', 'Jahangir Pura, Surat', 'Ramnagar, Surat', 'Vesu, Surat', 'Piplod, Surat']\n"
     ]
    }
   ],
   "source": [
    "area=driver.find_elements(By.XPATH, '//p[@class=\"sc-1hez2tp-0 sc-kQZOhr kWLunQ\"]')\n",
    "area_list=[]\n",
    "for i in area:\n",
    "    area_list.append(i.text)\n",
    "print(area_list)"
   ]
  },
  {
   "cell_type": "code",
   "execution_count": 71,
   "id": "a810efc1-b686-4d00-9a3c-abf90d74687a",
   "metadata": {},
   "outputs": [
    {
     "name": "stdout",
     "output_type": "stream",
     "text": [
      "['4.3', '3.8', '3.8', '3.9', '4.5', '4.1', '4.0', '-', '4.0', '3.6', '3.9', '-', '-', '4.3', '4.4', '3.5', '4.2', '4.0', '3.3', '-', '3.9', '4.1', '3.9', '3.7', '3.8', '-', '3.9', '-', 'New', '3.0', '3.7', '4.2', '3.4', '3.1', '3.9', '4.3', '-', '-', '-', '4.2', '3.3', '-', '3.7', '3.0', '3.6', '3.4', '4.6', '4.3', '3.8', '-', '4.8', '3.9', '-', '4.2', '3.9', '3.1', '4.2', '3.8', '2.9', '-', '-', '3.5', '-', '-', '3.9', '-', '3.6', '3.0', '3.2', '3.3', '3.5', '-', '-', '-', '-', '-', '-', '-', '-', '-', 'New', '-', '-', '-', '-', '-', '-', 'New', '-', '-', '-', '-', '-', '-', '-', '-', '-', '-', '-', '-', '-', '-', '-', '-', '-', '-', '-', '-', '-', '-', '-', '-', '-', '-', '4.1', '3.4', '3.7', '-', '-', '-', '-', 'New', '-']\n"
     ]
    }
   ],
   "source": [
    "dining_rating=driver.find_elements(By.XPATH, '//div[@class=\"sc-1q7bklc-1 cILgox\"]')\n",
    "dining_rating_list=[]\n",
    "for i in dining_rating:\n",
    "    dining_rating_list.append(i.text)\n",
    "print(dining_rating_list)"
   ]
  },
  {
   "cell_type": "code",
   "execution_count": 75,
   "id": "a794021e-dc47-461a-9fb8-6dc01439e21c",
   "metadata": {},
   "outputs": [
    {
     "name": "stdout",
     "output_type": "stream",
     "text": [
      "['3.9', '3.3', '4.0', '4.1', '4.0', '4.0', '1', '5', '', '', '', '', '', '', '', '', '', '']\n"
     ]
    }
   ],
   "source": [
    "delivery_rating=driver.find_elements(By.XPATH, '//div[@class=\"sc-1q7bklc-1 cILgox\"]')\n",
    "delivery_rating_list=[]\n",
    "for i in delivery_rating:\n",
    "    delivery_rating_list.append(i.text)\n",
    "print(delivery_rating_list)"
   ]
  },
  {
   "cell_type": "code",
   "execution_count": 76,
   "id": "8d1b0248-40e8-4208-aaa3-bca8e4e98025",
   "metadata": {},
   "outputs": [
    {
     "name": "stdout",
     "output_type": "stream",
     "text": [
      "['Cafe, Beverages, Desserts, Italian, Finger Food, Fast Food', 'Cafe, Coffee, Chinese, Continental, Fast Food, Street Food, Desserts, Beverages', 'Cafe, Beverages, Pizza', 'Cafe, Coffee, Fast Food, Shake, Beverages', 'Cafe, Beverages, Desserts, Italian, Finger Food, Fast Food', 'Cafe, Coffee, Oriental, Italian, North Indian, Chinese, Desserts, Shake', 'Cafe, Coffee, North Indian, Asian, Pizza, Continental, Desserts, Shake', 'Cafe, Coffee, Continental, Sandwich, Fast Food, Desserts, Shake, Beverages', 'Cafe, Coffee, Mexican, Italian, Japanese, Spanish, Arabian, Desserts', 'Cafe, Pizza, Pasta, Fast Food', 'Cafe, Coffee, Shake, Beverages, Pizza, Burger, Sandwich, Fast Food', 'Bakery, Coffee, Sushi', 'Cafe, Coffee, North Indian, Chinese, Japanese, Desserts, Shake, Beverages', 'Beverages, Desserts', 'Italian, Sandwich, Wraps, Burger, North Eastern, Pizza, Chinese, Beverages', 'Cafe, Coffee, Pizza, Pasta, Italian, Mexican, Sandwich, Burger', 'Cafe, Continental, Fast Food, Beverages, Lebanese, British', 'Cafe, Oriental, Chinese, Italian, Pizza, Sandwich, Coffee, Shake', 'Cafe, Coffee, Ice Cream, Beverages, Fast Food', 'Cafe, Coffee, Sandwich, Italian, Continental, Fast Food, Desserts, Tea', 'Cafe, Coffee, Pizza, Sandwich, Fast Food, Chinese, Shake, Beverages', 'Cafe, Coffee, North Indian, Chinese, Fast Food, Waffle, Desserts, Beverages', 'Cafe, Coffee, Fast Food, Beverages', 'Cafe, Coffee, Sandwich, Salad, Pizza, Italian, Burger, Desserts', 'Cafe, Coffee, Desserts, Beverages', 'Cafe, Coffee, Fast Food, Pasta, Pizza, Shake', 'Beverages, Shake, Coffee, Street Food, Desserts', 'North Indian, Pizza, Pasta, Chinese, Continental, Salad, Desserts, Beverages', 'Cafe, Coffee, North Indian, Mediterranean, Asian, Desserts, Tea, Beverages', 'Cafe, Coffee, Beverages, Pizza, Italian, Fast Food', 'Cafe, Coffee, Fast Food, Beverages, Desserts, Shake, Waffle, Pasta', 'Cafe, Beverages, Desserts, Sushi', 'Cafe, Shake, Beverages, Bakery, Desserts', 'Cafe, Coffee, Fast Food, Beverages, Desserts, Shake, Waffle, Pasta', 'Cafe, Coffee, Beverages, Pasta, Fast Food, Desserts', 'Fast Food, Desserts, Beverages', 'Cafe, Tea, Shake, Beverages, Fast Food', 'Cafe, Coffee, Fast Food, Street Food, Bakery, Desserts, Shake, Beverages', 'Cafe, Coffee, Shake, North Indian, Chinese, Pizza, Sandwich, Fast Food', 'Continental, Mexican, Pizza, Beverages', 'North Indian, Chinese, Fast Food, Cafe, Coffee, Juices, Beverages', 'Cafe, Coffee, Sandwich, Pasta, Pizza, Continental, Desserts, Beverages', 'Cafe, Fast Food, Desserts, Beverages', 'Cafe, Coffee, Chinese, North Indian, Continental, Mexican, Desserts, Beverages', 'Cafe, Coffee, Tea, Sandwich, Fast Food, Pizza, Desserts, Beverages', 'Continental, Beverages, Salad, Bakery, Chinese, Fast Food, Juices, Coffee', 'Fast Food, Shawarma, Beverages', 'Cafe, Tea, Mexican, Fast Food, Beverages', 'Cafe, Coffee, Chinese, Fast Food, Beverages', 'Cafe, Mexican, Pasta, Pizza, Sandwich, Fast Food, Desserts, Beverages', 'Cafe, Bakery, Fast Food, Desserts, Ice Cream, Beverages', 'Fast Food, Sandwich, Continental, Desserts, Beverages', 'Cafe, Coffee, Fast Food', 'Cafe, Pizza, Fast Food, Beverages', 'Cafe, Mexican, Continental, Fast Food, Beverages, Desserts', 'Coffee, Fast Food, Sandwich, Street Food, Pizza, Italian, Desserts, Beverages', 'Waffle, Pancake, Ice Cream, Desserts, Beverages', 'Pizza, Fast Food, Chinese, Sandwich, Burger, Desserts, Coffee, Beverages', 'Coffee, Italian, Continental, Beverages, Shake', 'Tea, Coffee, Beverages, Fast Food, Street Food, Sandwich', 'Burger, Coffee, Cafe, Beverages, Shake, Fast Food, Desserts', 'Fast Food, Desserts, Sichuan, Beverages', 'Coffee, Desserts, Sandwich, Beverages, American, Cafe', 'Cafe, Fast Food, Italian, Shake, Beverages', 'Beverages, Fast Food, Shake, Chinese, Tea, Juices, Desserts', 'Cafe, Coffee, Italian, Mexican, Fast Food, Bakery, Beverages', 'Coffee, Tea, Shake, Beverages', 'Cafe, Bakery, Tea, Shake, Beverages, Sandwich, Desserts', 'Cafe, Bakery, Fast Food, Desserts, Ice Cream, Beverages', 'Cafe, Fast Food, Beverages', 'Cafe, Coffee, Burger, Sandwich, Fast Food, Shake, Beverages', 'Coffee, Fast Food, Tea, Shake, Beverages, Sandwich, Pizza', 'Cafe, Coffee, Mexican, Continental, Sandwich, Pizza, Fast Food, Beverages', 'Cafe, Coffee, Shake, Beverages, Pizza, Italian', 'Cafe, Coffee, Continental, Pasta, Pizza, Salad, Desserts, Beverages', 'Cafe, Coffee, Pasta, Sandwich, Pizza, Chinese, Fast Food, Beverages', 'Cafe, Coffee, Tea, Pizza, Fast Food, Desserts, Shake, Beverages', 'Cafe, Coffee', 'Cafe, Coffee, Juices, North Indian, Sushi', 'Beverages, Fast Food, Desserts', 'Cafe, Coffee, South Indian, North Indian, Fast Food, Chinese, Shake, Beverages', 'Cafe, Coffee, Pizza, Burger, Sandwich, Waffle, Desserts, Shake', 'Bakery, Cafe, Coffee, Fast Food, Ice Cream, Desserts, Beverages', 'Cafe, Fast Food', 'Cafe, Coffee, Pancake, Fast Food, Waffle, Desserts, Tea, Shake', 'Cafe, Fast Food, Beverages', 'Cafe, Beverages, Fast Food, Sandwich', 'Cafe, Coffee, Beverages, Shake, Bakery', 'Coffee, Fast Food, Desserts, Beverages', 'Cafe, Coffee, Continental, Chinese, Fast Food, Asian, Wraps, Beverages', 'North Indian, South Indian, Chinese, Italian', 'Cafe, Coffee, Beverages', 'Cafe, Coffee, North Indian, Chinese, Fast Food, Burger, Desserts, Beverages', 'Cafe, Beverages, Desserts, Continental', 'Cafe, Fast Food, Sandwich, Wraps, Desserts, Coffee, Tea, Shake', 'Cafe, Coffee, Shake, Pancake, Waffle, Desserts, Beverages', 'Cafe, Coffee, Shake, Fast Food, Beverages', 'Chinese, Burger, Pizza, Fast Food', 'Cafe, Coffee, North Indian, Burger, Fast Food, Ice Cream, Shake, Juices', 'Cafe, Coffee, Sandwich, Pizza, Salad, Street Food', 'Cafe, Coffee, Fast Food, Sandwich, Burger', 'Cafe, Desserts', 'Cafe, North Indian, Fast Food, Burger, Beverages', 'Cafe, Tea', 'Cafe, Beverages, Pizza, Sandwich, Fast Food, Street Food', 'Cafe, Coffee, Beverages, Bakery, Desserts, Pizza, Fast Food', 'Cafe, Coffee, Sandwich, Pizza, Chinese, Beverages, Shake, Fast Food', 'Cafe, Coffee, Sandwich, Pizza, Burger, Pasta, Waffle, Beverages', 'Cafe, Chinese, North Indian, Continental, Mughlai, Fast Food, Beverages', 'Cafe, Fast Food, Street Food, Chinese, North Indian, Beverages', 'Cafe, Coffee', 'Cafe', 'Cafe, Coffee, Tea, Mexican, Fast Food, Waffle, Shake, Beverages', 'Cafe, Coffee, Fast Food, Shake, Beverages', 'Cafe, Coffee, Beverages, Fast Food, Desserts', 'Cafe, Italian, Fast Food, Desserts, Coffee, Shake, Beverages', 'Coffee, Tea, Continental, Pasta, Pizza, Biryani, Chinese, Desserts', 'Cafe, Coffee, Fast Food, Continental', 'Cafe, Coffee, Pizza, Pasta, Chinese, Beverages', 'Cafe, Coffee, Fast Food, Desserts, Shake, Beverages', 'Fast Food, Street Food', 'Cafe, Coffee, Gujarati, North Indian, Italian, Thai, Fast Food, Shake', 'Cafe, Coffee, Fast Food, Desserts']\n"
     ]
    }
   ],
   "source": [
    "items=driver.find_elements(By.XPATH, '//p[@class=\"sc-1hez2tp-0 sc-gUlUPW gQHQnh\"]')\n",
    "items_list=[]\n",
    "for i in items:\n",
    "    items_list.append(i.text)\n",
    "print(items_list)"
   ]
  },
  {
   "cell_type": "code",
   "execution_count": 78,
   "id": "600586b3-425c-4185-8e5b-76e3ffc51fa2",
   "metadata": {},
   "outputs": [
    {
     "name": "stdout",
     "output_type": "stream",
     "text": [
      "['₹800 for two', '₹800 for two', '₹800 for two', '₹600 for two', '₹800 for two', '₹1,200 for two', '₹1,900 for two', '₹800 for two', '₹1,500 for two', '₹600 for two', '₹800 for two', '₹850 for two', '₹1,000 for two', '₹600 for two', '₹500 for two', '₹1,000 for two', '₹1,000 for two', '₹500 for two', '₹500 for two', '₹1,300 for two', '₹500 for two', '₹1,000 for two', '₹700 for two', '₹1,200 for two', '₹500 for two', '₹1,200 for two', '₹500 for two', '₹1,300 for two', '₹1,600 for two', '₹600 for two', '₹850 for two', '₹800 for two', '₹1,000 for two', '₹850 for two', '₹800 for two', '₹500 for two', '₹550 for two', '₹550 for two', '₹1,300 for two', '₹600 for two', '₹1,000 for two', '₹600 for two', '₹800 for two', '₹800 for two', '₹1,000 for two', '₹600 for two', '₹300 for two', '₹550 for two', '₹500 for two', '₹1,200 for two', '₹800 for two', '₹500 for two', '₹500 for two', '₹600 for two', '₹700 for two', '₹500 for two', '₹500 for two', '₹600 for two', '₹800 for two', '₹300 for two', '₹300 for two', '₹600 for two', '₹500 for two', '₹600 for two', '₹500 for two', '₹700 for two', '₹400 for two', '₹700 for two', '₹800 for two', '₹500 for two', '₹400 for two', '₹700 for two', '₹650 for two', '₹500 for two', '₹800 for two', '₹300 for two', '₹500 for two', '₹300 for two', '₹1,000 for two', '₹500 for two', '₹350 for two', '₹650 for two', '₹500 for two', '₹400 for two', '₹600 for two', '₹500 for two', '₹500 for two', '₹400 for two', '₹350 for two', '₹800 for two', '₹350 for two', '₹400 for two', '₹300 for two', '₹550 for two', '₹800 for two', '₹500 for two', '₹350 for two', '₹250 for two', '₹500 for two', '₹200 for two', '₹400 for two', '₹550 for two', '₹600 for two', '₹400 for two', '₹150 for two', '₹600 for two', '₹550 for two', '₹500 for two', '₹1,100 for two', '₹500 for two', '₹500 for two', '₹400 for two', '₹500 for two', '₹350 for two', '₹600 for two', '₹900 for two', '₹1,000 for two', '₹700 for two', '₹1,250 for two', '₹400 for two', '₹300 for two', '₹1,300 for two', '₹1,000 for two']\n"
     ]
    }
   ],
   "source": [
    "average_cost=driver.find_elements(By.XPATH, '//p[@class=\"sc-1hez2tp-0 sc-gUlUPW iMvhva\"]')\n",
    "average_cost_list=[]\n",
    "for i in average_cost:\n",
    "    average_cost_list.append(i.text)\n",
    "print(average_cost_list)"
   ]
  },
  {
   "cell_type": "code",
   "execution_count": 81,
   "id": "ab02f033-3734-4255-bbf7-2dade8ae1924",
   "metadata": {},
   "outputs": [
    {
     "data": {
      "text/html": [
       "<div>\n",
       "<style scoped>\n",
       "    .dataframe tbody tr th:only-of-type {\n",
       "        vertical-align: middle;\n",
       "    }\n",
       "\n",
       "    .dataframe tbody tr th {\n",
       "        vertical-align: top;\n",
       "    }\n",
       "\n",
       "    .dataframe thead th {\n",
       "        text-align: right;\n",
       "    }\n",
       "</style>\n",
       "<table border=\"1\" class=\"dataframe\">\n",
       "  <thead>\n",
       "    <tr style=\"text-align: right;\">\n",
       "      <th></th>\n",
       "      <th>Name</th>\n",
       "      <th>Area</th>\n",
       "      <th>Dining_rating</th>\n",
       "      <th>Food_Items</th>\n",
       "      <th>Average_Cost</th>\n",
       "    </tr>\n",
       "  </thead>\n",
       "  <tbody>\n",
       "    <tr>\n",
       "      <th>0</th>\n",
       "      <td>Coffee King Vesu</td>\n",
       "      <td>Vesu, Surat</td>\n",
       "      <td>4.3</td>\n",
       "      <td>Cafe, Beverages, Desserts, Italian, Finger Foo...</td>\n",
       "      <td>₹800 for two</td>\n",
       "    </tr>\n",
       "    <tr>\n",
       "      <th>1</th>\n",
       "      <td>Cafe Beats Arena</td>\n",
       "      <td>Piplod, Surat</td>\n",
       "      <td>3.8</td>\n",
       "      <td>Cafe, Coffee, Chinese, Continental, Fast Food,...</td>\n",
       "      <td>₹800 for two</td>\n",
       "    </tr>\n",
       "    <tr>\n",
       "      <th>2</th>\n",
       "      <td>The Bungalow Cafe</td>\n",
       "      <td>Adajan Gam, Surat</td>\n",
       "      <td>3.8</td>\n",
       "      <td>Cafe, Beverages, Pizza</td>\n",
       "      <td>₹800 for two</td>\n",
       "    </tr>\n",
       "    <tr>\n",
       "      <th>3</th>\n",
       "      <td>Cafe Mewaco</td>\n",
       "      <td>Piplod, Surat</td>\n",
       "      <td>3.9</td>\n",
       "      <td>Cafe, Coffee, Fast Food, Shake, Beverages</td>\n",
       "      <td>₹600 for two</td>\n",
       "    </tr>\n",
       "    <tr>\n",
       "      <th>4</th>\n",
       "      <td>Coffee King</td>\n",
       "      <td>Adajan Gam, Surat</td>\n",
       "      <td>4.5</td>\n",
       "      <td>Cafe, Beverages, Desserts, Italian, Finger Foo...</td>\n",
       "      <td>₹800 for two</td>\n",
       "    </tr>\n",
       "    <tr>\n",
       "      <th>...</th>\n",
       "      <td>...</td>\n",
       "      <td>...</td>\n",
       "      <td>...</td>\n",
       "      <td>...</td>\n",
       "      <td>...</td>\n",
       "    </tr>\n",
       "    <tr>\n",
       "      <th>118</th>\n",
       "      <td>Cafe IDA</td>\n",
       "      <td>Vesu, Surat</td>\n",
       "      <td>-</td>\n",
       "      <td>Cafe, Coffee, Pizza, Pasta, Chinese, Beverages</td>\n",
       "      <td>₹1,250 for two</td>\n",
       "    </tr>\n",
       "    <tr>\n",
       "      <th>119</th>\n",
       "      <td>Karwaan The Cafe</td>\n",
       "      <td>Jahangir Pura, Surat</td>\n",
       "      <td>-</td>\n",
       "      <td>Cafe, Coffee, Fast Food, Desserts, Shake, Beve...</td>\n",
       "      <td>₹400 for two</td>\n",
       "    </tr>\n",
       "    <tr>\n",
       "      <th>120</th>\n",
       "      <td>Karwaan The Cafe</td>\n",
       "      <td>Ramnagar, Surat</td>\n",
       "      <td>-</td>\n",
       "      <td>Fast Food, Street Food</td>\n",
       "      <td>₹300 for two</td>\n",
       "    </tr>\n",
       "    <tr>\n",
       "      <th>121</th>\n",
       "      <td>Meadows</td>\n",
       "      <td>Vesu, Surat</td>\n",
       "      <td>New</td>\n",
       "      <td>Cafe, Coffee, Gujarati, North Indian, Italian,...</td>\n",
       "      <td>₹1,300 for two</td>\n",
       "    </tr>\n",
       "    <tr>\n",
       "      <th>122</th>\n",
       "      <td>Coffee Experience Center</td>\n",
       "      <td>Piplod, Surat</td>\n",
       "      <td>-</td>\n",
       "      <td>Cafe, Coffee, Fast Food, Desserts</td>\n",
       "      <td>₹1,000 for two</td>\n",
       "    </tr>\n",
       "  </tbody>\n",
       "</table>\n",
       "<p>123 rows × 5 columns</p>\n",
       "</div>"
      ],
      "text/plain": [
       "                         Name                  Area Dining_rating  \\\n",
       "0            Coffee King Vesu           Vesu, Surat           4.3   \n",
       "1            Cafe Beats Arena         Piplod, Surat           3.8   \n",
       "2           The Bungalow Cafe     Adajan Gam, Surat           3.8   \n",
       "3                 Cafe Mewaco         Piplod, Surat           3.9   \n",
       "4                 Coffee King     Adajan Gam, Surat           4.5   \n",
       "..                        ...                   ...           ...   \n",
       "118                  Cafe IDA           Vesu, Surat             -   \n",
       "119          Karwaan The Cafe  Jahangir Pura, Surat             -   \n",
       "120          Karwaan The Cafe       Ramnagar, Surat             -   \n",
       "121                   Meadows           Vesu, Surat           New   \n",
       "122  Coffee Experience Center         Piplod, Surat             -   \n",
       "\n",
       "                                            Food_Items    Average_Cost  \n",
       "0    Cafe, Beverages, Desserts, Italian, Finger Foo...    ₹800 for two  \n",
       "1    Cafe, Coffee, Chinese, Continental, Fast Food,...    ₹800 for two  \n",
       "2                               Cafe, Beverages, Pizza    ₹800 for two  \n",
       "3            Cafe, Coffee, Fast Food, Shake, Beverages    ₹600 for two  \n",
       "4    Cafe, Beverages, Desserts, Italian, Finger Foo...    ₹800 for two  \n",
       "..                                                 ...             ...  \n",
       "118     Cafe, Coffee, Pizza, Pasta, Chinese, Beverages  ₹1,250 for two  \n",
       "119  Cafe, Coffee, Fast Food, Desserts, Shake, Beve...    ₹400 for two  \n",
       "120                             Fast Food, Street Food    ₹300 for two  \n",
       "121  Cafe, Coffee, Gujarati, North Indian, Italian,...  ₹1,300 for two  \n",
       "122                  Cafe, Coffee, Fast Food, Desserts  ₹1,000 for two  \n",
       "\n",
       "[123 rows x 5 columns]"
      ]
     },
     "metadata": {},
     "output_type": "display_data"
    }
   ],
   "source": [
    "import pandas as pd\n",
    "data={'Name':name_list,'Area':area_list,'Dining_rating':dining_rating_list,'Food_Items':items_list,'Average_Cost':average_cost_list}\n",
    "df=pd.DataFrame(data)\n",
    "display(df)\n",
    "df.to_csv('raw_cafe.csv')"
   ]
  }
 ],
 "metadata": {
  "kernelspec": {
   "display_name": "Python 3 (ipykernel)",
   "language": "python",
   "name": "python3"
  },
  "language_info": {
   "codemirror_mode": {
    "name": "ipython",
    "version": 3
   },
   "file_extension": ".py",
   "mimetype": "text/x-python",
   "name": "python",
   "nbconvert_exporter": "python",
   "pygments_lexer": "ipython3",
   "version": "3.11.7"
  }
 },
 "nbformat": 4,
 "nbformat_minor": 5
}
